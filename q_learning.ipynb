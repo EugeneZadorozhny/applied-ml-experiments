{
 "cells": [
  {
   "cell_type": "markdown",
   "id": "7e781c05",
   "metadata": {},
   "source": [
    "# Q learning"
   ]
  },
  {
   "cell_type": "code",
   "execution_count": 1,
   "id": "702a0666",
   "metadata": {},
   "outputs": [],
   "source": [
    "import numpy as np\n",
    "from random import randint, choice\n",
    "\n",
    "# The number of piles is 3\n",
    "\n",
    "\n",
    "# max number of items per pile\n",
    "ITEMS_MX = 10\n",
    "\n",
    "\n",
    "# Initialize starting position\n",
    "def init_game():\n",
    "    return [randint(1, ITEMS_MX), randint(1, ITEMS_MX), randint(1, ITEMS_MX)]\n",
    "\n",
    "\n",
    "# Based on X-oring the item counts in piles - mathematical solution\n",
    "def nim_guru(st):\n",
    "    xored = st[0] ^ st[1] ^ st[2]\n",
    "    if xored == 0:\n",
    "        return nim_random(st)\n",
    "    #\n",
    "    for pile in range(3):\n",
    "        s = st[pile] ^ xored\n",
    "        if s <= st[pile]:\n",
    "            return st[pile] - s, pile\n",
    "\n",
    "\n",
    "# Random Nim player\n",
    "def nim_random(_st):\n",
    "    pile = choice([i for i in range(3) if _st[i] > 0])  # find the non-empty piles\n",
    "    return randint(1, _st[pile]), pile  # random move"
   ]
  },
  {
   "cell_type": "code",
   "execution_count": 2,
   "id": "9ef8a3e7",
   "metadata": {},
   "outputs": [],
   "source": [
    "def nim_qlearner(_st):\n",
    "    # pick the best rewarding move, equation 1\n",
    "    a = np.argmax(qtable[_st[0], _st[1], _st[2]])  # exploitation\n",
    "    # index is based on move, pile\n",
    "    move, pile = a % ITEMS_MX + 1, a // ITEMS_MX\n",
    "    # check if qtable has generated a random but game illegal move - we have not explored there yet\n",
    "    if move <= 0 or _st[pile] < move:\n",
    "        move, pile = nim_random(_st)  # exploration\n",
    "\n",
    "    return move, pile  # action"
   ]
  },
  {
   "cell_type": "code",
   "execution_count": 3,
   "id": "198dbda7",
   "metadata": {},
   "outputs": [],
   "source": [
    "Engines = {\"Random\": nim_random, \"Guru\": nim_guru, \"Qlearner\": nim_qlearner}\n",
    "\n",
    "\n",
    "def game(a, b):\n",
    "    state, side = init_game(), \"A\"\n",
    "    while True:\n",
    "        engine = Engines[a] if side == \"A\" else Engines[b]\n",
    "        move, pile = engine(state)\n",
    "        # print(state, move, pile)  # debug purposes\n",
    "        state[pile] -= move\n",
    "        if state == [0, 0, 0]:  # game ends\n",
    "            return side  # winning side\n",
    "\n",
    "        side = \"B\" if side == \"A\" else \"A\"  # switch sides\n",
    "\n",
    "\n",
    "def play_games(_n, a, b):\n",
    "    from collections import defaultdict\n",
    "\n",
    "    wins = defaultdict(int)\n",
    "    for i in range(_n):\n",
    "        wins[game(a, b)] += 1\n",
    "    # info\n",
    "    print(f\"{_n} games, {a:>8s}{wins['A']:5d}  {b:>8s}{wins['B']:5d}\")\n",
    "\n",
    "    return wins[\"A\"], wins[\"B\"]"
   ]
  },
  {
   "cell_type": "code",
   "execution_count": 4,
   "id": "508a3f01",
   "metadata": {},
   "outputs": [],
   "source": [
    "qtable, Alpha, Gamma, Reward, Punish = None, 1, 0.8, 100.0, -100.0\n",
    "\n",
    "\n",
    "# learn from _n games, randomly played to explore the possible states\n",
    "def nim_qlearn(_n):\n",
    "    global qtable\n",
    "    # based on max items per pile\n",
    "    qtable = np.zeros(\n",
    "        (ITEMS_MX + 1, ITEMS_MX + 1, ITEMS_MX + 1, ITEMS_MX * 3), dtype=float\n",
    "    )\n",
    "    # play _n games\n",
    "    for i in range(_n):\n",
    "        # first state is starting position\n",
    "        st1 = init_game()\n",
    "        player = 0\n",
    "        while True:  # while game not finished\n",
    "            # make a random move - exploration\n",
    "            move, pile = nim_random(st1)\n",
    "            st2 = list(st1)\n",
    "            # make the move\n",
    "            st2[pile] -= move  # --> last move I made\n",
    "            if st2 == [0, 0, 0]:  # game ends\n",
    "                if player == 0:\n",
    "                    qtable_update(Reward, st1, move, pile, 0)  # I won\n",
    "                else:\n",
    "                    qtable_update(Punish, st1, move, pile, 0)  # I lost\n",
    "                break  # new game\n",
    "            if player == 0:\n",
    "                qtable_update(\n",
    "                    0, st1, move, pile, np.min(qtable[st2[0], st2[1], st2[2]])\n",
    "                )\n",
    "            else:\n",
    "                qtable_update(\n",
    "                    0, st1, move, pile, np.max(qtable[st2[0], st2[1], st2[2]])\n",
    "                )\n",
    "            st1 = st2\n",
    "            player = (player + 1) % 2\n",
    "\n",
    "\n",
    "# Equation 3 - update the qtable\n",
    "def qtable_update(r, _st1, move, pile, q_future_best):\n",
    "    a = pile * ITEMS_MX + move - 1\n",
    "    qtable[_st1[0], _st1[1], _st1[2], a] = qtable[\n",
    "        _st1[0], _st1[1], _st1[2], a\n",
    "    ] + Alpha * (r + Gamma * q_future_best - qtable[_st1[0], _st1[1], _st1[2], a])"
   ]
  },
  {
   "cell_type": "code",
   "execution_count": 5,
   "id": "c058ee1c",
   "metadata": {},
   "outputs": [
    {
     "name": "stdout",
     "output_type": "stream",
     "text": [
      "CPU times: user 351 ms, sys: 0 ns, total: 351 ms\n",
      "Wall time: 351 ms\n"
     ]
    }
   ],
   "source": [
    "%%time\n",
    "nim_qlearn(10000)"
   ]
  },
  {
   "cell_type": "code",
   "execution_count": 6,
   "id": "8bfb9edf",
   "metadata": {},
   "outputs": [
    {
     "name": "stdout",
     "output_type": "stream",
     "text": [
      "1000 games, Qlearner   17      Guru  983\n",
      "1000 games,     Guru  998  Qlearner    2\n",
      "1000 games, Qlearner  627    Random  373\n",
      "1000 games,   Random  360  Qlearner  640\n",
      "1000 games,     Guru  932      Guru   68\n"
     ]
    },
    {
     "data": {
      "text/plain": [
       "(932, 68)"
      ]
     },
     "execution_count": 6,
     "metadata": {},
     "output_type": "execute_result"
    }
   ],
   "source": [
    "# Play games\n",
    "play_games(1000, \"Qlearner\", \"Guru\")\n",
    "play_games(1000, \"Guru\", \"Qlearner\")\n",
    "play_games(1000, \"Qlearner\", \"Random\")\n",
    "play_games(1000, \"Random\", \"Qlearner\")\n",
    "play_games(1000, \"Guru\", \"Guru\")"
   ]
  },
  {
   "cell_type": "code",
   "execution_count": 7,
   "id": "84bd1a71",
   "metadata": {},
   "outputs": [],
   "source": [
    "# Function to print the entire set of states\n",
    "def qtable_log(_fn):\n",
    "    with open(_fn, \"w\") as fout:\n",
    "        s = \"state\"\n",
    "        for a in range(ITEMS_MX * 3):\n",
    "            move, pile = a % ITEMS_MX + 1, a // ITEMS_MX\n",
    "            s += \",%02d_%01d\" % (move, pile)\n",
    "\n",
    "        print(s, file=fout)\n",
    "        for i, j, k in [\n",
    "            (i, j, k)\n",
    "            for i in range(ITEMS_MX + 1)\n",
    "            for j in range(ITEMS_MX + 1)\n",
    "            for k in range(ITEMS_MX + 1)\n",
    "        ]:\n",
    "            s = \"%02d_%02d_%02d\" % (i, j, k)\n",
    "            for a in range(ITEMS_MX * 3):\n",
    "                r = qtable[i, j, k, a]\n",
    "                s += \",%.1f\" % r\n",
    "\n",
    "            print(s, file=fout)\n",
    "\n",
    "\n",
    "qtable_log(\"results/qtable_debug.txt\")"
   ]
  },
  {
   "cell_type": "code",
   "execution_count": null,
   "id": "fde0f05a",
   "metadata": {},
   "outputs": [],
   "source": []
  },
  {
   "cell_type": "code",
   "execution_count": null,
   "id": "cd991232",
   "metadata": {},
   "outputs": [],
   "source": []
  }
 ],
 "metadata": {
  "kernelspec": {
   "display_name": "Python 3 (ipykernel)",
   "language": "python",
   "name": "python3"
  },
  "language_info": {
   "codemirror_mode": {
    "name": "ipython",
    "version": 3
   },
   "file_extension": ".py",
   "mimetype": "text/x-python",
   "name": "python",
   "nbconvert_exporter": "python",
   "pygments_lexer": "ipython3",
   "version": "3.10.12"
  }
 },
 "nbformat": 4,
 "nbformat_minor": 5
}
