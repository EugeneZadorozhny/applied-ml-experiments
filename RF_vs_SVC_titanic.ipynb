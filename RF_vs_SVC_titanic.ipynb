{
 "cells": [
  {
   "cell_type": "markdown",
   "id": "b6a097a1",
   "metadata": {},
   "source": [
    "# Random Forest VS SVC\n",
    "\n",
    "Titanic dataset"
   ]
  },
  {
   "cell_type": "code",
   "execution_count": 1,
   "id": "bb190626",
   "metadata": {},
   "outputs": [
    {
     "name": "stdout",
     "output_type": "stream",
     "text": [
      "#rows=891 #columns=12\n",
      "PassengerId      int64\n",
      "Survived         int64\n",
      "Pclass           int64\n",
      "Name            object\n",
      "Sex             object\n",
      "Age            float64\n",
      "SibSp            int64\n",
      "Parch            int64\n",
      "Ticket          object\n",
      "Fare           float64\n",
      "Cabin           object\n",
      "Embarked        object\n",
      "dtype: object\n"
     ]
    }
   ],
   "source": [
    "%matplotlib inline\n",
    "import matplotlib.pyplot as plt\n",
    "import numpy as np\n",
    "import pandas as pd\n",
    "from sklearn.feature_extraction.text import TfidfVectorizer\n",
    "from sklearn.impute import SimpleImputer\n",
    "\n",
    "# Locate and load the data file\n",
    "df_train = pd.read_csv(\"./EP_datasets/titanic/train.csv\")\n",
    "df_test = pd.read_csv(\"./EP_datasets/titanic/test.csv\")\n",
    "\n",
    "print(f\"#rows={len(df_train)} #columns={len(df_train.columns)}\")\n",
    "\n",
    "# Print some info and plots to get a feeling about the dataset\n",
    "print(df_train.dtypes)"
   ]
  },
  {
   "cell_type": "code",
   "execution_count": 2,
   "id": "fa242702",
   "metadata": {
    "scrolled": true
   },
   "outputs": [
    {
     "name": "stdout",
     "output_type": "stream",
     "text": [
      "#total= 891\n",
      "#duplicated= 0\n"
     ]
    }
   ],
   "source": [
    "# Check for duplicates, this adds a new column to the dataset\n",
    "df_train[\"is_duplicate\"] = df_train.duplicated()\n",
    "\n",
    "# Note that when using f-strings, the internal quote character must be different, such as 'is_duplicate' above\n",
    "print(f\"#total= {len(df_train)}\")\n",
    "print(f\"#duplicated= {len(df_train[df_train['is_duplicate']==True])}\")"
   ]
  },
  {
   "cell_type": "code",
   "execution_count": 3,
   "id": "cf452fd8",
   "metadata": {},
   "outputs": [],
   "source": [
    "# remove unnecessary features\n",
    "# remove ticket number\n",
    "# remove cabin number\n",
    "# remove embarked\n",
    "\n",
    "df_train = df_train.drop(\n",
    "    columns=[\"Ticket\", \"Cabin\", \"Embarked\", \"is_duplicate\", \"Name\"]\n",
    ")\n",
    "df_test = df_test.drop(columns=[\"Ticket\", \"Cabin\", \"Embarked\", \"Name\"])"
   ]
  },
  {
   "cell_type": "code",
   "execution_count": 4,
   "id": "fee4b550",
   "metadata": {},
   "outputs": [
    {
     "data": {
      "text/plain": [
       "PassengerId    False\n",
       "Pclass         False\n",
       "Sex            False\n",
       "Age             True\n",
       "SibSp          False\n",
       "Parch          False\n",
       "Fare            True\n",
       "dtype: bool"
      ]
     },
     "execution_count": 4,
     "metadata": {},
     "output_type": "execute_result"
    }
   ],
   "source": [
    "# check of null values\n",
    "df_test.isnull().any()"
   ]
  },
  {
   "cell_type": "code",
   "execution_count": 5,
   "id": "05ddacbb",
   "metadata": {},
   "outputs": [
    {
     "data": {
      "text/plain": [
       "PassengerId    False\n",
       "Pclass         False\n",
       "Sex            False\n",
       "Age            False\n",
       "SibSp          False\n",
       "Parch          False\n",
       "Fare           False\n",
       "dtype: bool"
      ]
     },
     "execution_count": 5,
     "metadata": {},
     "output_type": "execute_result"
    }
   ],
   "source": [
    "# relace nulls in age with mean age - Training Data\n",
    "mean = df_train[\"Age\"].mean()\n",
    "mean\n",
    "df_train[\"Age\"] = df_train[\"Age\"].fillna(mean)\n",
    "\n",
    "# relace nulls in age with mean age - Test Data\n",
    "mean_age = df_test[\"Age\"].mean()\n",
    "mean_fare = df_test[\"Fare\"].mean()\n",
    "df_test[\"Age\"] = df_test[\"Age\"].fillna(mean_age)\n",
    "df_test[\"Fare\"] = df_test[\"Fare\"].fillna(mean_fare)\n",
    "df_test.isnull().any()"
   ]
  },
  {
   "cell_type": "code",
   "execution_count": 6,
   "id": "e3f23b9e",
   "metadata": {},
   "outputs": [
    {
     "data": {
      "text/plain": [
       "PassengerId      int64\n",
       "Survived         int64\n",
       "Pclass           int64\n",
       "Sex             object\n",
       "Age            float64\n",
       "SibSp            int64\n",
       "Parch            int64\n",
       "Fare           float64\n",
       "dtype: object"
      ]
     },
     "execution_count": 6,
     "metadata": {},
     "output_type": "execute_result"
    }
   ],
   "source": [
    "# check for data types\n",
    "df_train.dtypes"
   ]
  },
  {
   "cell_type": "code",
   "execution_count": 7,
   "id": "f1c9148a",
   "metadata": {},
   "outputs": [
    {
     "name": "stdout",
     "output_type": "stream",
     "text": [
      "Sex ['male' 'female']\n"
     ]
    }
   ],
   "source": [
    "# Check unique levels and see any marker is used for a missing level\n",
    "for col in df_test.columns:\n",
    "    if df_test[col].dtype == object:\n",
    "        print(col, df_test[col].unique())"
   ]
  },
  {
   "cell_type": "code",
   "execution_count": 8,
   "id": "aaef6a69",
   "metadata": {},
   "outputs": [],
   "source": [
    "# one hot encode values in data\n",
    "def encode_onehot(_df, f):\n",
    "    _df2 = (\n",
    "        pd.get_dummies(_df[f], prefix=\"\", prefix_sep=\"\")\n",
    "        .groupby(level=0, axis=1)\n",
    "        .max()\n",
    "        .add_prefix(f + \" - \")\n",
    "    )\n",
    "    df3 = pd.concat([_df, _df2], axis=1)\n",
    "    df3 = df3.drop([f], axis=1)\n",
    "    return df3"
   ]
  },
  {
   "cell_type": "code",
   "execution_count": 9,
   "id": "5ba8d917",
   "metadata": {},
   "outputs": [
    {
     "name": "stderr",
     "output_type": "stream",
     "text": [
      "/tmp/ipykernel_35215/2664773589.py:4: FutureWarning: DataFrame.groupby with axis=1 is deprecated. Do `frame.T.groupby(...)` without axis instead.\n",
      "  pd.get_dummies(_df[f], prefix=\"\", prefix_sep=\"\")\n",
      "/tmp/ipykernel_35215/2664773589.py:4: FutureWarning: DataFrame.groupby with axis=1 is deprecated. Do `frame.T.groupby(...)` without axis instead.\n",
      "  pd.get_dummies(_df[f], prefix=\"\", prefix_sep=\"\")\n"
     ]
    }
   ],
   "source": [
    "# one hot encode Sex of passengers\n",
    "df_o = encode_onehot(df_train, \"Sex\")\n",
    "df_o_test = encode_onehot(df_test, \"Sex\")\n",
    "\n",
    "cols = []\n",
    "for f in list(df_o.columns.values):\n",
    "    if \"Sex\" in f:\n",
    "        cols += [f]\n",
    "cols = []\n",
    "for f in list(df_o_test.columns.values):\n",
    "    if \"Sex\" in f:\n",
    "        cols += [f]"
   ]
  },
  {
   "cell_type": "code",
   "execution_count": 10,
   "id": "e0b46b31",
   "metadata": {},
   "outputs": [
    {
     "data": {
      "text/html": [
       "<div>\n",
       "<style scoped>\n",
       "    .dataframe tbody tr th:only-of-type {\n",
       "        vertical-align: middle;\n",
       "    }\n",
       "\n",
       "    .dataframe tbody tr th {\n",
       "        vertical-align: top;\n",
       "    }\n",
       "\n",
       "    .dataframe thead th {\n",
       "        text-align: right;\n",
       "    }\n",
       "</style>\n",
       "<table border=\"1\" class=\"dataframe\">\n",
       "  <thead>\n",
       "    <tr style=\"text-align: right;\">\n",
       "      <th></th>\n",
       "      <th>Sex - female</th>\n",
       "      <th>Sex - male</th>\n",
       "    </tr>\n",
       "  </thead>\n",
       "  <tbody>\n",
       "    <tr>\n",
       "      <th>0</th>\n",
       "      <td>False</td>\n",
       "      <td>True</td>\n",
       "    </tr>\n",
       "    <tr>\n",
       "      <th>1</th>\n",
       "      <td>True</td>\n",
       "      <td>False</td>\n",
       "    </tr>\n",
       "    <tr>\n",
       "      <th>2</th>\n",
       "      <td>False</td>\n",
       "      <td>True</td>\n",
       "    </tr>\n",
       "    <tr>\n",
       "      <th>3</th>\n",
       "      <td>False</td>\n",
       "      <td>True</td>\n",
       "    </tr>\n",
       "    <tr>\n",
       "      <th>4</th>\n",
       "      <td>True</td>\n",
       "      <td>False</td>\n",
       "    </tr>\n",
       "    <tr>\n",
       "      <th>5</th>\n",
       "      <td>False</td>\n",
       "      <td>True</td>\n",
       "    </tr>\n",
       "    <tr>\n",
       "      <th>6</th>\n",
       "      <td>True</td>\n",
       "      <td>False</td>\n",
       "    </tr>\n",
       "    <tr>\n",
       "      <th>7</th>\n",
       "      <td>False</td>\n",
       "      <td>True</td>\n",
       "    </tr>\n",
       "    <tr>\n",
       "      <th>8</th>\n",
       "      <td>True</td>\n",
       "      <td>False</td>\n",
       "    </tr>\n",
       "    <tr>\n",
       "      <th>9</th>\n",
       "      <td>False</td>\n",
       "      <td>True</td>\n",
       "    </tr>\n",
       "  </tbody>\n",
       "</table>\n",
       "</div>"
      ],
      "text/plain": [
       "   Sex - female  Sex - male\n",
       "0         False        True\n",
       "1          True       False\n",
       "2         False        True\n",
       "3         False        True\n",
       "4          True       False\n",
       "5         False        True\n",
       "6          True       False\n",
       "7         False        True\n",
       "8          True       False\n",
       "9         False        True"
      ]
     },
     "metadata": {},
     "output_type": "display_data"
    }
   ],
   "source": [
    "display(df_o_test[cols][:10])"
   ]
  },
  {
   "cell_type": "code",
   "execution_count": 11,
   "id": "a474590c",
   "metadata": {},
   "outputs": [
    {
     "data": {
      "text/html": [
       "<div>\n",
       "<style scoped>\n",
       "    .dataframe tbody tr th:only-of-type {\n",
       "        vertical-align: middle;\n",
       "    }\n",
       "\n",
       "    .dataframe tbody tr th {\n",
       "        vertical-align: top;\n",
       "    }\n",
       "\n",
       "    .dataframe thead th {\n",
       "        text-align: right;\n",
       "    }\n",
       "</style>\n",
       "<table border=\"1\" class=\"dataframe\">\n",
       "  <thead>\n",
       "    <tr style=\"text-align: right;\">\n",
       "      <th></th>\n",
       "      <th>PassengerId</th>\n",
       "      <th>Pclass</th>\n",
       "      <th>Age</th>\n",
       "      <th>SibSp</th>\n",
       "      <th>Parch</th>\n",
       "      <th>Fare</th>\n",
       "      <th>Sex - female</th>\n",
       "      <th>Sex - male</th>\n",
       "    </tr>\n",
       "  </thead>\n",
       "  <tbody>\n",
       "    <tr>\n",
       "      <th>0</th>\n",
       "      <td>892</td>\n",
       "      <td>3</td>\n",
       "      <td>34.5</td>\n",
       "      <td>0</td>\n",
       "      <td>0</td>\n",
       "      <td>7.8292</td>\n",
       "      <td>False</td>\n",
       "      <td>True</td>\n",
       "    </tr>\n",
       "    <tr>\n",
       "      <th>1</th>\n",
       "      <td>893</td>\n",
       "      <td>3</td>\n",
       "      <td>47.0</td>\n",
       "      <td>1</td>\n",
       "      <td>0</td>\n",
       "      <td>7.0000</td>\n",
       "      <td>True</td>\n",
       "      <td>False</td>\n",
       "    </tr>\n",
       "    <tr>\n",
       "      <th>2</th>\n",
       "      <td>894</td>\n",
       "      <td>2</td>\n",
       "      <td>62.0</td>\n",
       "      <td>0</td>\n",
       "      <td>0</td>\n",
       "      <td>9.6875</td>\n",
       "      <td>False</td>\n",
       "      <td>True</td>\n",
       "    </tr>\n",
       "    <tr>\n",
       "      <th>3</th>\n",
       "      <td>895</td>\n",
       "      <td>3</td>\n",
       "      <td>27.0</td>\n",
       "      <td>0</td>\n",
       "      <td>0</td>\n",
       "      <td>8.6625</td>\n",
       "      <td>False</td>\n",
       "      <td>True</td>\n",
       "    </tr>\n",
       "    <tr>\n",
       "      <th>4</th>\n",
       "      <td>896</td>\n",
       "      <td>3</td>\n",
       "      <td>22.0</td>\n",
       "      <td>1</td>\n",
       "      <td>1</td>\n",
       "      <td>12.2875</td>\n",
       "      <td>True</td>\n",
       "      <td>False</td>\n",
       "    </tr>\n",
       "  </tbody>\n",
       "</table>\n",
       "</div>"
      ],
      "text/plain": [
       "   PassengerId  Pclass   Age  SibSp  Parch     Fare  Sex - female  Sex - male\n",
       "0          892       3  34.5      0      0   7.8292         False        True\n",
       "1          893       3  47.0      1      0   7.0000          True       False\n",
       "2          894       2  62.0      0      0   9.6875         False        True\n",
       "3          895       3  27.0      0      0   8.6625         False        True\n",
       "4          896       3  22.0      1      1  12.2875          True       False"
      ]
     },
     "execution_count": 11,
     "metadata": {},
     "output_type": "execute_result"
    }
   ],
   "source": [
    "df_o_test.head()"
   ]
  },
  {
   "cell_type": "code",
   "execution_count": 12,
   "id": "7a9435aa",
   "metadata": {},
   "outputs": [],
   "source": [
    "# drop male column since the same data is represented by female column\n",
    "df_o = df_o.drop(columns=[\"Sex - male\"])\n",
    "df_o_test = df_o_test.drop(columns=[\"Sex - male\"])"
   ]
  },
  {
   "cell_type": "code",
   "execution_count": 13,
   "id": "d8889bf7",
   "metadata": {},
   "outputs": [],
   "source": [
    "# prepare the input X matrix and the target y vector\n",
    "X = df_o.loc[\n",
    "    :, np.logical_and(df_o.columns != \"Survived\", df_o.columns != \"PassengerId\")\n",
    "]\n",
    "y = df_o.loc[:, df_o.columns == \"Survived\"].values.ravel()\n",
    "X_test = df_o_test.loc[\n",
    "    :,\n",
    "    np.logical_and(df_o_test.columns != \"Survived\", df_o_test.columns != \"PassengerId\"),\n",
    "]"
   ]
  },
  {
   "cell_type": "code",
   "execution_count": 14,
   "id": "705f68ae",
   "metadata": {},
   "outputs": [
    {
     "data": {
      "text/plain": [
       "Pclass          False\n",
       "Age             False\n",
       "SibSp           False\n",
       "Parch           False\n",
       "Fare            False\n",
       "Sex - female    False\n",
       "dtype: bool"
      ]
     },
     "execution_count": 14,
     "metadata": {},
     "output_type": "execute_result"
    }
   ],
   "source": [
    "X_test.isnull().any()"
   ]
  },
  {
   "cell_type": "code",
   "execution_count": 15,
   "id": "f40dbe8a",
   "metadata": {},
   "outputs": [],
   "source": [
    "def save_preds(_fn, _y_pred, _df):\n",
    "    import csv\n",
    "\n",
    "    with open(_fn, \"w\") as fout:\n",
    "        writer = csv.writer(fout, delimiter=\",\", lineterminator=\"\\n\")\n",
    "        writer.writerow([\"Survived\", \"PassengerId\"])\n",
    "        for y, passengerId in zip(_y_pred, _df[\"PassengerId\"]):\n",
    "            writer.writerow([y, passengerId])"
   ]
  },
  {
   "cell_type": "code",
   "execution_count": 16,
   "id": "9c4e7557",
   "metadata": {},
   "outputs": [],
   "source": [
    "from sklearn.ensemble import RandomForestClassifier\n",
    "from sklearn.svm import SVC"
   ]
  },
  {
   "cell_type": "code",
   "execution_count": 17,
   "id": "5e1bec3a",
   "metadata": {},
   "outputs": [
    {
     "name": "stdout",
     "output_type": "stream",
     "text": [
      "CPU times: user 114 ms, sys: 113 µs, total: 115 ms\n",
      "Wall time: 114 ms\n"
     ]
    }
   ],
   "source": [
    "%%time\n",
    "\n",
    "forest = RandomForestClassifier(random_state=1)\n",
    "forest.fit(X, y)\n",
    "\n",
    "y_pred = forest.predict(X_test)\n",
    "save_preds(\"results/predictions_forest.csv\", y_pred, df_test)"
   ]
  },
  {
   "cell_type": "code",
   "execution_count": 18,
   "id": "5d25b74f",
   "metadata": {},
   "outputs": [
    {
     "name": "stdout",
     "output_type": "stream",
     "text": [
      "CPU times: user 4.25 s, sys: 0 ns, total: 4.25 s\n",
      "Wall time: 4.25 s\n"
     ]
    }
   ],
   "source": [
    "%%time\n",
    "\n",
    "svc = SVC(kernel=\"linear\")\n",
    "svc.fit(X, y)\n",
    "\n",
    "y_pred = svc.predict(X_test)\n",
    "save_preds(\"results/predictions_svc.csv\", y_pred, df_test)"
   ]
  }
 ],
 "metadata": {
  "kernelspec": {
   "display_name": "Python 3 (ipykernel)",
   "language": "python",
   "name": "python3"
  },
  "language_info": {
   "codemirror_mode": {
    "name": "ipython",
    "version": 3
   },
   "file_extension": ".py",
   "mimetype": "text/x-python",
   "name": "python",
   "nbconvert_exporter": "python",
   "pygments_lexer": "ipython3",
   "version": "3.10.12"
  }
 },
 "nbformat": 4,
 "nbformat_minor": 5
}
