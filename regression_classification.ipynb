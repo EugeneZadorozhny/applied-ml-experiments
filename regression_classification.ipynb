{
 "cells": [
  {
   "cell_type": "markdown",
   "id": "52e300a6",
   "metadata": {},
   "source": [
    "# Regression VS Classification"
   ]
  },
  {
   "cell_type": "code",
   "execution_count": 1,
   "id": "3d196b92",
   "metadata": {},
   "outputs": [
    {
     "name": "stdout",
     "output_type": "stream",
     "text": [
      "#rows=27820 #columns=12\n",
      "country                object\n",
      "year                    int64\n",
      "sex                    object\n",
      "age                    object\n",
      "suicides_no             int64\n",
      "population              int64\n",
      "suicides/100k pop     float64\n",
      "country-year           object\n",
      "HDI for year          float64\n",
      " gdp_for_year ($)      object\n",
      "gdp_per_capita ($)      int64\n",
      "generation             object\n",
      "dtype: object\n"
     ]
    }
   ],
   "source": [
    "%matplotlib inline\n",
    "import matplotlib.pyplot as plt\n",
    "import numpy as np\n",
    "import pandas as pd\n",
    "import seaborn as sns\n",
    "\n",
    "sns.set(style=\"ticks\", color_codes=True)\n",
    "import plotly.express as px\n",
    "\n",
    "# Locate and load the data file\n",
    "df = pd.read_csv(\"./EP_datasets/master.csv\")\n",
    "print(f\"#rows={len(df)} #columns={len(df.columns)}\")\n",
    "\n",
    "# Print some info and plots to get a feeling about the dataset\n",
    "print(df.dtypes)"
   ]
  },
  {
   "cell_type": "code",
   "execution_count": 2,
   "id": "556cb192",
   "metadata": {},
   "outputs": [
    {
     "data": {
      "text/html": [
       "<div>\n",
       "<style scoped>\n",
       "    .dataframe tbody tr th:only-of-type {\n",
       "        vertical-align: middle;\n",
       "    }\n",
       "\n",
       "    .dataframe tbody tr th {\n",
       "        vertical-align: top;\n",
       "    }\n",
       "\n",
       "    .dataframe thead th {\n",
       "        text-align: right;\n",
       "    }\n",
       "</style>\n",
       "<table border=\"1\" class=\"dataframe\">\n",
       "  <thead>\n",
       "    <tr style=\"text-align: right;\">\n",
       "      <th></th>\n",
       "      <th>country</th>\n",
       "      <th>year</th>\n",
       "      <th>sex</th>\n",
       "      <th>age</th>\n",
       "      <th>suicides_no</th>\n",
       "      <th>population</th>\n",
       "      <th>suicides/100k pop</th>\n",
       "      <th>country-year</th>\n",
       "      <th>HDI for year</th>\n",
       "      <th>gdp_for_year ($)</th>\n",
       "      <th>gdp_per_capita ($)</th>\n",
       "      <th>generation</th>\n",
       "    </tr>\n",
       "  </thead>\n",
       "  <tbody>\n",
       "    <tr>\n",
       "      <th>0</th>\n",
       "      <td>Albania</td>\n",
       "      <td>1987</td>\n",
       "      <td>male</td>\n",
       "      <td>15-24 years</td>\n",
       "      <td>21</td>\n",
       "      <td>312900</td>\n",
       "      <td>6.71</td>\n",
       "      <td>Albania1987</td>\n",
       "      <td>NaN</td>\n",
       "      <td>2,156,624,900</td>\n",
       "      <td>796</td>\n",
       "      <td>Generation X</td>\n",
       "    </tr>\n",
       "    <tr>\n",
       "      <th>1</th>\n",
       "      <td>Albania</td>\n",
       "      <td>1987</td>\n",
       "      <td>male</td>\n",
       "      <td>35-54 years</td>\n",
       "      <td>16</td>\n",
       "      <td>308000</td>\n",
       "      <td>5.19</td>\n",
       "      <td>Albania1987</td>\n",
       "      <td>NaN</td>\n",
       "      <td>2,156,624,900</td>\n",
       "      <td>796</td>\n",
       "      <td>Silent</td>\n",
       "    </tr>\n",
       "    <tr>\n",
       "      <th>2</th>\n",
       "      <td>Albania</td>\n",
       "      <td>1987</td>\n",
       "      <td>female</td>\n",
       "      <td>15-24 years</td>\n",
       "      <td>14</td>\n",
       "      <td>289700</td>\n",
       "      <td>4.83</td>\n",
       "      <td>Albania1987</td>\n",
       "      <td>NaN</td>\n",
       "      <td>2,156,624,900</td>\n",
       "      <td>796</td>\n",
       "      <td>Generation X</td>\n",
       "    </tr>\n",
       "    <tr>\n",
       "      <th>3</th>\n",
       "      <td>Albania</td>\n",
       "      <td>1987</td>\n",
       "      <td>male</td>\n",
       "      <td>75+ years</td>\n",
       "      <td>1</td>\n",
       "      <td>21800</td>\n",
       "      <td>4.59</td>\n",
       "      <td>Albania1987</td>\n",
       "      <td>NaN</td>\n",
       "      <td>2,156,624,900</td>\n",
       "      <td>796</td>\n",
       "      <td>G.I. Generation</td>\n",
       "    </tr>\n",
       "    <tr>\n",
       "      <th>4</th>\n",
       "      <td>Albania</td>\n",
       "      <td>1987</td>\n",
       "      <td>male</td>\n",
       "      <td>25-34 years</td>\n",
       "      <td>9</td>\n",
       "      <td>274300</td>\n",
       "      <td>3.28</td>\n",
       "      <td>Albania1987</td>\n",
       "      <td>NaN</td>\n",
       "      <td>2,156,624,900</td>\n",
       "      <td>796</td>\n",
       "      <td>Boomers</td>\n",
       "    </tr>\n",
       "  </tbody>\n",
       "</table>\n",
       "</div>"
      ],
      "text/plain": [
       "   country  year     sex          age  suicides_no  population  \\\n",
       "0  Albania  1987    male  15-24 years           21      312900   \n",
       "1  Albania  1987    male  35-54 years           16      308000   \n",
       "2  Albania  1987  female  15-24 years           14      289700   \n",
       "3  Albania  1987    male    75+ years            1       21800   \n",
       "4  Albania  1987    male  25-34 years            9      274300   \n",
       "\n",
       "   suicides/100k pop country-year  HDI for year  gdp_for_year ($)   \\\n",
       "0               6.71  Albania1987           NaN      2,156,624,900   \n",
       "1               5.19  Albania1987           NaN      2,156,624,900   \n",
       "2               4.83  Albania1987           NaN      2,156,624,900   \n",
       "3               4.59  Albania1987           NaN      2,156,624,900   \n",
       "4               3.28  Albania1987           NaN      2,156,624,900   \n",
       "\n",
       "   gdp_per_capita ($)       generation  \n",
       "0                 796     Generation X  \n",
       "1                 796           Silent  \n",
       "2                 796     Generation X  \n",
       "3                 796  G.I. Generation  \n",
       "4                 796          Boomers  "
      ]
     },
     "execution_count": 2,
     "metadata": {},
     "output_type": "execute_result"
    }
   ],
   "source": [
    "df.head()"
   ]
  },
  {
   "cell_type": "code",
   "execution_count": 3,
   "id": "6cd1a04e",
   "metadata": {},
   "outputs": [
    {
     "name": "stdout",
     "output_type": "stream",
     "text": [
      "Index([], dtype='object')\n",
      "Index(['HDI for year'], dtype='object')\n",
      "country                object\n",
      "year                    int64\n",
      "sex                    object\n",
      "age                    object\n",
      "suicides_no             int64\n",
      "population              int64\n",
      "suicides/100k pop     float64\n",
      "country-year           object\n",
      "HDI for year          float64\n",
      " gdp_for_year ($)      object\n",
      "gdp_per_capita ($)      int64\n",
      "generation             object\n",
      "dtype: object\n"
     ]
    }
   ],
   "source": [
    "# Check if we have any '?' in df values\n",
    "print(df.columns[df.isin([\"?\"]).any()])\n",
    "# Check if we have any NaN in df values\n",
    "print(df.columns[df.isnull().any()])\n",
    "\n",
    "print(df.dtypes)"
   ]
  },
  {
   "cell_type": "code",
   "execution_count": 4,
   "id": "c27f3dd7",
   "metadata": {},
   "outputs": [
    {
     "name": "stdout",
     "output_type": "stream",
     "text": [
      "#total= 27820\n",
      "#duplicated= 0\n"
     ]
    }
   ],
   "source": [
    "# Check for duplicates, this adds a new column to the dataset\n",
    "df[\"is_duplicate\"] = df.duplicated()\n",
    "\n",
    "# Note that when using f-strings, the internal quote character must be different, such as 'is_duplicate' above\n",
    "print(f\"#total= {len(df)}\")\n",
    "print(f\"#duplicated= {len(df[df['is_duplicate']==True])}\")"
   ]
  },
  {
   "cell_type": "code",
   "execution_count": 5,
   "id": "33c0f809",
   "metadata": {},
   "outputs": [
    {
     "data": {
      "text/plain": [
       "country               False\n",
       "year                  False\n",
       "sex                   False\n",
       "age                   False\n",
       "suicides_no           False\n",
       "population            False\n",
       "suicides/100k pop     False\n",
       "country-year          False\n",
       "HDI for year           True\n",
       " gdp_for_year ($)     False\n",
       "gdp_per_capita ($)    False\n",
       "generation            False\n",
       "is_duplicate          False\n",
       "dtype: bool"
      ]
     },
     "execution_count": 5,
     "metadata": {},
     "output_type": "execute_result"
    }
   ],
   "source": [
    "# Do we have NaN in our dataset?\n",
    "df.isnull().any()"
   ]
  },
  {
   "cell_type": "code",
   "execution_count": 6,
   "id": "5a838aa7",
   "metadata": {},
   "outputs": [
    {
     "data": {
      "text/html": [
       "<div>\n",
       "<style scoped>\n",
       "    .dataframe tbody tr th:only-of-type {\n",
       "        vertical-align: middle;\n",
       "    }\n",
       "\n",
       "    .dataframe tbody tr th {\n",
       "        vertical-align: top;\n",
       "    }\n",
       "\n",
       "    .dataframe thead th {\n",
       "        text-align: right;\n",
       "    }\n",
       "</style>\n",
       "<table border=\"1\" class=\"dataframe\">\n",
       "  <thead>\n",
       "    <tr style=\"text-align: right;\">\n",
       "      <th></th>\n",
       "      <th>country</th>\n",
       "      <th>year</th>\n",
       "      <th>sex</th>\n",
       "      <th>age</th>\n",
       "      <th>suicides_no</th>\n",
       "      <th>population</th>\n",
       "      <th>suicides/100k pop</th>\n",
       "      <th>gdp_for_year ($)</th>\n",
       "      <th>gdp_per_capita ($)</th>\n",
       "      <th>generation</th>\n",
       "    </tr>\n",
       "  </thead>\n",
       "  <tbody>\n",
       "    <tr>\n",
       "      <th>0</th>\n",
       "      <td>Albania</td>\n",
       "      <td>1987</td>\n",
       "      <td>male</td>\n",
       "      <td>24</td>\n",
       "      <td>21</td>\n",
       "      <td>312900</td>\n",
       "      <td>6.71</td>\n",
       "      <td>2,156,624,900</td>\n",
       "      <td>796</td>\n",
       "      <td>Generation X</td>\n",
       "    </tr>\n",
       "    <tr>\n",
       "      <th>1</th>\n",
       "      <td>Albania</td>\n",
       "      <td>1987</td>\n",
       "      <td>male</td>\n",
       "      <td>54</td>\n",
       "      <td>16</td>\n",
       "      <td>308000</td>\n",
       "      <td>5.19</td>\n",
       "      <td>2,156,624,900</td>\n",
       "      <td>796</td>\n",
       "      <td>Silent</td>\n",
       "    </tr>\n",
       "    <tr>\n",
       "      <th>2</th>\n",
       "      <td>Albania</td>\n",
       "      <td>1987</td>\n",
       "      <td>female</td>\n",
       "      <td>24</td>\n",
       "      <td>14</td>\n",
       "      <td>289700</td>\n",
       "      <td>4.83</td>\n",
       "      <td>2,156,624,900</td>\n",
       "      <td>796</td>\n",
       "      <td>Generation X</td>\n",
       "    </tr>\n",
       "    <tr>\n",
       "      <th>3</th>\n",
       "      <td>Albania</td>\n",
       "      <td>1987</td>\n",
       "      <td>male</td>\n",
       "      <td>100</td>\n",
       "      <td>1</td>\n",
       "      <td>21800</td>\n",
       "      <td>4.59</td>\n",
       "      <td>2,156,624,900</td>\n",
       "      <td>796</td>\n",
       "      <td>G.I. Generation</td>\n",
       "    </tr>\n",
       "    <tr>\n",
       "      <th>4</th>\n",
       "      <td>Albania</td>\n",
       "      <td>1987</td>\n",
       "      <td>male</td>\n",
       "      <td>34</td>\n",
       "      <td>9</td>\n",
       "      <td>274300</td>\n",
       "      <td>3.28</td>\n",
       "      <td>2,156,624,900</td>\n",
       "      <td>796</td>\n",
       "      <td>Boomers</td>\n",
       "    </tr>\n",
       "  </tbody>\n",
       "</table>\n",
       "</div>"
      ],
      "text/plain": [
       "   country  year     sex  age  suicides_no  population  suicides/100k pop  \\\n",
       "0  Albania  1987    male   24           21      312900               6.71   \n",
       "1  Albania  1987    male   54           16      308000               5.19   \n",
       "2  Albania  1987  female   24           14      289700               4.83   \n",
       "3  Albania  1987    male  100            1       21800               4.59   \n",
       "4  Albania  1987    male   34            9      274300               3.28   \n",
       "\n",
       "   gdp_for_year ($)   gdp_per_capita ($)       generation  \n",
       "0      2,156,624,900                 796     Generation X  \n",
       "1      2,156,624,900                 796           Silent  \n",
       "2      2,156,624,900                 796     Generation X  \n",
       "3      2,156,624,900                 796  G.I. Generation  \n",
       "4      2,156,624,900                 796          Boomers  "
      ]
     },
     "execution_count": 6,
     "metadata": {},
     "output_type": "execute_result"
    }
   ],
   "source": [
    "df[\"age\"] = df[\"age\"].str.replace(\"5-14 years\", \"14\")\n",
    "df[\"age\"] = df[\"age\"].str.replace(\"15-24 years\", \"24\")\n",
    "df[\"age\"] = df[\"age\"].str.replace(\"25-34 years\", \"34\")\n",
    "df[\"age\"] = df[\"age\"].str.replace(\"35-54 years\", \"54\")\n",
    "df[\"age\"] = df[\"age\"].str.replace(\"55-74 years\", \"74\")\n",
    "df[\"age\"] = df[\"age\"].str.replace(\"75+ years\", \"100\", regex=False)\n",
    "# df['age'] = pd.to_numeric(df['age'], errors='coerce')\n",
    "df = df.drop(columns=[\"HDI for year\", \"is_duplicate\", \"country-year\"])\n",
    "df.head()"
   ]
  },
  {
   "cell_type": "code",
   "execution_count": 7,
   "id": "c2e3e765",
   "metadata": {},
   "outputs": [
    {
     "name": "stdout",
     "output_type": "stream",
     "text": [
      "country                object\n",
      "year                    int64\n",
      "sex                    object\n",
      "age                    object\n",
      "suicides_no             int64\n",
      "population              int64\n",
      "suicides/100k pop     float64\n",
      " gdp_for_year ($)      object\n",
      "gdp_per_capita ($)      int64\n",
      "generation             object\n",
      "dtype: object\n"
     ]
    }
   ],
   "source": [
    "print(df.dtypes)"
   ]
  },
  {
   "cell_type": "code",
   "execution_count": 8,
   "id": "aafe2daa",
   "metadata": {},
   "outputs": [],
   "source": [
    "df_lr = df[[\"age\", \"sex\", \"generation\", \"suicides/100k pop\"]].copy()"
   ]
  },
  {
   "cell_type": "code",
   "execution_count": 9,
   "id": "74631319",
   "metadata": {
    "scrolled": false
   },
   "outputs": [
    {
     "name": "stdout",
     "output_type": "stream",
     "text": [
      "#rows=27820 #columns=4\n"
     ]
    },
    {
     "data": {
      "text/html": [
       "<div>\n",
       "<style scoped>\n",
       "    .dataframe tbody tr th:only-of-type {\n",
       "        vertical-align: middle;\n",
       "    }\n",
       "\n",
       "    .dataframe tbody tr th {\n",
       "        vertical-align: top;\n",
       "    }\n",
       "\n",
       "    .dataframe thead th {\n",
       "        text-align: right;\n",
       "    }\n",
       "</style>\n",
       "<table border=\"1\" class=\"dataframe\">\n",
       "  <thead>\n",
       "    <tr style=\"text-align: right;\">\n",
       "      <th></th>\n",
       "      <th>age</th>\n",
       "      <th>sex</th>\n",
       "      <th>generation</th>\n",
       "      <th>suicides/100k pop</th>\n",
       "    </tr>\n",
       "  </thead>\n",
       "  <tbody>\n",
       "    <tr>\n",
       "      <th>0</th>\n",
       "      <td>24</td>\n",
       "      <td>male</td>\n",
       "      <td>Generation X</td>\n",
       "      <td>6.71</td>\n",
       "    </tr>\n",
       "    <tr>\n",
       "      <th>1</th>\n",
       "      <td>54</td>\n",
       "      <td>male</td>\n",
       "      <td>Silent</td>\n",
       "      <td>5.19</td>\n",
       "    </tr>\n",
       "    <tr>\n",
       "      <th>2</th>\n",
       "      <td>24</td>\n",
       "      <td>female</td>\n",
       "      <td>Generation X</td>\n",
       "      <td>4.83</td>\n",
       "    </tr>\n",
       "    <tr>\n",
       "      <th>3</th>\n",
       "      <td>100</td>\n",
       "      <td>male</td>\n",
       "      <td>G.I. Generation</td>\n",
       "      <td>4.59</td>\n",
       "    </tr>\n",
       "    <tr>\n",
       "      <th>4</th>\n",
       "      <td>34</td>\n",
       "      <td>male</td>\n",
       "      <td>Boomers</td>\n",
       "      <td>3.28</td>\n",
       "    </tr>\n",
       "  </tbody>\n",
       "</table>\n",
       "</div>"
      ],
      "text/plain": [
       "   age     sex       generation  suicides/100k pop\n",
       "0   24    male     Generation X               6.71\n",
       "1   54    male           Silent               5.19\n",
       "2   24  female     Generation X               4.83\n",
       "3  100    male  G.I. Generation               4.59\n",
       "4   34    male          Boomers               3.28"
      ]
     },
     "execution_count": 9,
     "metadata": {},
     "output_type": "execute_result"
    }
   ],
   "source": [
    "print(f\"#rows={len(df_lr)} #columns={len(df_lr.columns)}\")\n",
    "df_lr.head()"
   ]
  },
  {
   "cell_type": "code",
   "execution_count": 10,
   "id": "4d4c9931",
   "metadata": {},
   "outputs": [
    {
     "name": "stderr",
     "output_type": "stream",
     "text": [
      "/tmp/ipykernel_36053/2223117356.py:7: FutureWarning: DataFrame.groupby with axis=1 is deprecated. Do `frame.T.groupby(...)` without axis instead.\n",
      "  pd.get_dummies(_df[f], prefix=\"\", prefix_sep=\"\")\n",
      "/tmp/ipykernel_36053/2223117356.py:7: FutureWarning: DataFrame.groupby with axis=1 is deprecated. Do `frame.T.groupby(...)` without axis instead.\n",
      "  pd.get_dummies(_df[f], prefix=\"\", prefix_sep=\"\")\n",
      "/tmp/ipykernel_36053/2223117356.py:7: FutureWarning: DataFrame.groupby with axis=1 is deprecated. Do `frame.T.groupby(...)` without axis instead.\n",
      "  pd.get_dummies(_df[f], prefix=\"\", prefix_sep=\"\")\n"
     ]
    },
    {
     "data": {
      "text/html": [
       "<div>\n",
       "<style scoped>\n",
       "    .dataframe tbody tr th:only-of-type {\n",
       "        vertical-align: middle;\n",
       "    }\n",
       "\n",
       "    .dataframe tbody tr th {\n",
       "        vertical-align: top;\n",
       "    }\n",
       "\n",
       "    .dataframe thead th {\n",
       "        text-align: right;\n",
       "    }\n",
       "</style>\n",
       "<table border=\"1\" class=\"dataframe\">\n",
       "  <thead>\n",
       "    <tr style=\"text-align: right;\">\n",
       "      <th></th>\n",
       "      <th>suicides/100k pop</th>\n",
       "      <th>age - 100</th>\n",
       "      <th>age - 14</th>\n",
       "      <th>age - 24</th>\n",
       "      <th>age - 34</th>\n",
       "      <th>age - 54</th>\n",
       "      <th>age - 74</th>\n",
       "      <th>sex - female</th>\n",
       "      <th>sex - male</th>\n",
       "      <th>generation - Boomers</th>\n",
       "      <th>generation - G.I. Generation</th>\n",
       "      <th>generation - Generation X</th>\n",
       "      <th>generation - Generation Z</th>\n",
       "      <th>generation - Millenials</th>\n",
       "      <th>generation - Silent</th>\n",
       "    </tr>\n",
       "  </thead>\n",
       "  <tbody>\n",
       "    <tr>\n",
       "      <th>0</th>\n",
       "      <td>6.71</td>\n",
       "      <td>False</td>\n",
       "      <td>False</td>\n",
       "      <td>True</td>\n",
       "      <td>False</td>\n",
       "      <td>False</td>\n",
       "      <td>False</td>\n",
       "      <td>False</td>\n",
       "      <td>True</td>\n",
       "      <td>False</td>\n",
       "      <td>False</td>\n",
       "      <td>True</td>\n",
       "      <td>False</td>\n",
       "      <td>False</td>\n",
       "      <td>False</td>\n",
       "    </tr>\n",
       "    <tr>\n",
       "      <th>1</th>\n",
       "      <td>5.19</td>\n",
       "      <td>False</td>\n",
       "      <td>False</td>\n",
       "      <td>False</td>\n",
       "      <td>False</td>\n",
       "      <td>True</td>\n",
       "      <td>False</td>\n",
       "      <td>False</td>\n",
       "      <td>True</td>\n",
       "      <td>False</td>\n",
       "      <td>False</td>\n",
       "      <td>False</td>\n",
       "      <td>False</td>\n",
       "      <td>False</td>\n",
       "      <td>True</td>\n",
       "    </tr>\n",
       "    <tr>\n",
       "      <th>2</th>\n",
       "      <td>4.83</td>\n",
       "      <td>False</td>\n",
       "      <td>False</td>\n",
       "      <td>True</td>\n",
       "      <td>False</td>\n",
       "      <td>False</td>\n",
       "      <td>False</td>\n",
       "      <td>True</td>\n",
       "      <td>False</td>\n",
       "      <td>False</td>\n",
       "      <td>False</td>\n",
       "      <td>True</td>\n",
       "      <td>False</td>\n",
       "      <td>False</td>\n",
       "      <td>False</td>\n",
       "    </tr>\n",
       "    <tr>\n",
       "      <th>3</th>\n",
       "      <td>4.59</td>\n",
       "      <td>True</td>\n",
       "      <td>False</td>\n",
       "      <td>False</td>\n",
       "      <td>False</td>\n",
       "      <td>False</td>\n",
       "      <td>False</td>\n",
       "      <td>False</td>\n",
       "      <td>True</td>\n",
       "      <td>False</td>\n",
       "      <td>True</td>\n",
       "      <td>False</td>\n",
       "      <td>False</td>\n",
       "      <td>False</td>\n",
       "      <td>False</td>\n",
       "    </tr>\n",
       "    <tr>\n",
       "      <th>4</th>\n",
       "      <td>3.28</td>\n",
       "      <td>False</td>\n",
       "      <td>False</td>\n",
       "      <td>False</td>\n",
       "      <td>True</td>\n",
       "      <td>False</td>\n",
       "      <td>False</td>\n",
       "      <td>False</td>\n",
       "      <td>True</td>\n",
       "      <td>True</td>\n",
       "      <td>False</td>\n",
       "      <td>False</td>\n",
       "      <td>False</td>\n",
       "      <td>False</td>\n",
       "      <td>False</td>\n",
       "    </tr>\n",
       "  </tbody>\n",
       "</table>\n",
       "</div>"
      ],
      "text/plain": [
       "   suicides/100k pop  age - 100  age - 14  age - 24  age - 34  age - 54  \\\n",
       "0               6.71      False     False      True     False     False   \n",
       "1               5.19      False     False     False     False      True   \n",
       "2               4.83      False     False      True     False     False   \n",
       "3               4.59       True     False     False     False     False   \n",
       "4               3.28      False     False     False      True     False   \n",
       "\n",
       "   age - 74  sex - female  sex - male  generation - Boomers  \\\n",
       "0     False         False        True                 False   \n",
       "1     False         False        True                 False   \n",
       "2     False          True       False                 False   \n",
       "3     False         False        True                 False   \n",
       "4     False         False        True                  True   \n",
       "\n",
       "   generation - G.I. Generation  generation - Generation X  \\\n",
       "0                         False                       True   \n",
       "1                         False                      False   \n",
       "2                         False                       True   \n",
       "3                          True                      False   \n",
       "4                         False                      False   \n",
       "\n",
       "   generation - Generation Z  generation - Millenials  generation - Silent  \n",
       "0                      False                    False                False  \n",
       "1                      False                    False                 True  \n",
       "2                      False                    False                False  \n",
       "3                      False                    False                False  \n",
       "4                      False                    False                False  "
      ]
     },
     "execution_count": 10,
     "metadata": {},
     "output_type": "execute_result"
    }
   ],
   "source": [
    "def encode_onehot(_df):\n",
    "    ___df = _df.copy()\n",
    "    # Convert all features of type object to one-hot encoded with pandas dummies\n",
    "    for f in list(_df.columns.values):\n",
    "        if _df[f].dtype == object:\n",
    "            __df = (\n",
    "                pd.get_dummies(_df[f], prefix=\"\", prefix_sep=\"\")\n",
    "                .groupby(level=0, axis=1)\n",
    "                .max()\n",
    "                .add_prefix(f + \" - \")\n",
    "            )\n",
    "            _df = pd.concat([_df, __df], axis=1)\n",
    "            _df = _df.drop([f], axis=1)\n",
    "\n",
    "    return _df\n",
    "\n",
    "\n",
    "# Convert the variable recurrence to numerical\n",
    "df_lr = encode_onehot(df_lr)\n",
    "\n",
    "# Sanity check\n",
    "df_lr.head()"
   ]
  },
  {
   "cell_type": "markdown",
   "id": "48cf21aa",
   "metadata": {},
   "source": [
    "## 1)\n",
    "\n",
    "The model predicts 8.8 suicides per 100k population for males age 20 and generation X. The MAE is 11.4. This model uses 14 regression coefficients"
   ]
  },
  {
   "cell_type": "code",
   "execution_count": 11,
   "id": "d366fe37",
   "metadata": {},
   "outputs": [],
   "source": [
    "def mae(_y, _y_pred):\n",
    "    return (len(_y) ** -1) * np.sum(np.abs(_y_pred - _y))"
   ]
  },
  {
   "cell_type": "code",
   "execution_count": 12,
   "id": "399a386f",
   "metadata": {},
   "outputs": [],
   "source": [
    "X = df_lr.loc[:, df_lr.columns != \"suicides/100k pop\"].values\n",
    "y = df_lr.loc[:, df_lr.columns == \"suicides/100k pop\"].values.ravel()"
   ]
  },
  {
   "cell_type": "code",
   "execution_count": 13,
   "id": "0c5cff39",
   "metadata": {},
   "outputs": [
    {
     "name": "stdout",
     "output_type": "stream",
     "text": [
      "10.199631560028756\n"
     ]
    }
   ],
   "source": [
    "from sklearn.linear_model import LinearRegression\n",
    "\n",
    "reg = LinearRegression().fit(X, y)\n",
    "\n",
    "y_pred = reg.predict(X)\n",
    "\n",
    "mae_val = mae(y, y_pred)\n",
    "print(mae_val)"
   ]
  },
  {
   "cell_type": "code",
   "execution_count": 14,
   "id": "cd8048a7",
   "metadata": {},
   "outputs": [],
   "source": [
    "X_test = np.array([[0, 1, 0, 0, 0, 0, 0, 1, 0, 0, 1, 0, 0, 0]])"
   ]
  },
  {
   "cell_type": "code",
   "execution_count": 15,
   "id": "53d3ec9c",
   "metadata": {},
   "outputs": [
    {
     "name": "stdout",
     "output_type": "stream",
     "text": [
      "11.438165887850468\n"
     ]
    }
   ],
   "source": [
    "y_pred_new = reg.predict(X_test)\n",
    "\n",
    "mae_val = mae(y, y_pred_new)\n",
    "print(mae_val)"
   ]
  },
  {
   "cell_type": "code",
   "execution_count": 16,
   "id": "689b7251",
   "metadata": {},
   "outputs": [
    {
     "data": {
      "text/plain": [
       "array([8.8125])"
      ]
     },
     "execution_count": 16,
     "metadata": {},
     "output_type": "execute_result"
    }
   ],
   "source": [
    "y_pred_new"
   ]
  },
  {
   "cell_type": "markdown",
   "id": "90da7b09",
   "metadata": {},
   "source": [
    "The model predicts 13 suicides per 100k population for males age 20 and generation X. The MAE is 13.4. This model uses 3 regression coefficients."
   ]
  },
  {
   "cell_type": "code",
   "execution_count": 17,
   "id": "567974bc",
   "metadata": {},
   "outputs": [
    {
     "name": "stdout",
     "output_type": "stream",
     "text": [
      "#rows=27820 #columns=4\n"
     ]
    },
    {
     "data": {
      "text/html": [
       "<div>\n",
       "<style scoped>\n",
       "    .dataframe tbody tr th:only-of-type {\n",
       "        vertical-align: middle;\n",
       "    }\n",
       "\n",
       "    .dataframe tbody tr th {\n",
       "        vertical-align: top;\n",
       "    }\n",
       "\n",
       "    .dataframe thead th {\n",
       "        text-align: right;\n",
       "    }\n",
       "</style>\n",
       "<table border=\"1\" class=\"dataframe\">\n",
       "  <thead>\n",
       "    <tr style=\"text-align: right;\">\n",
       "      <th></th>\n",
       "      <th>age</th>\n",
       "      <th>sex</th>\n",
       "      <th>generation</th>\n",
       "      <th>suicides/100k pop</th>\n",
       "    </tr>\n",
       "  </thead>\n",
       "  <tbody>\n",
       "    <tr>\n",
       "      <th>0</th>\n",
       "      <td>24</td>\n",
       "      <td>0</td>\n",
       "      <td>3</td>\n",
       "      <td>6.71</td>\n",
       "    </tr>\n",
       "    <tr>\n",
       "      <th>1</th>\n",
       "      <td>54</td>\n",
       "      <td>0</td>\n",
       "      <td>6</td>\n",
       "      <td>5.19</td>\n",
       "    </tr>\n",
       "    <tr>\n",
       "      <th>2</th>\n",
       "      <td>24</td>\n",
       "      <td>1</td>\n",
       "      <td>3</td>\n",
       "      <td>4.83</td>\n",
       "    </tr>\n",
       "    <tr>\n",
       "      <th>3</th>\n",
       "      <td>100</td>\n",
       "      <td>0</td>\n",
       "      <td>2</td>\n",
       "      <td>4.59</td>\n",
       "    </tr>\n",
       "    <tr>\n",
       "      <th>4</th>\n",
       "      <td>34</td>\n",
       "      <td>0</td>\n",
       "      <td>1</td>\n",
       "      <td>3.28</td>\n",
       "    </tr>\n",
       "  </tbody>\n",
       "</table>\n",
       "</div>"
      ],
      "text/plain": [
       "   age  sex  generation  suicides/100k pop\n",
       "0   24    0           3               6.71\n",
       "1   54    0           6               5.19\n",
       "2   24    1           3               4.83\n",
       "3  100    0           2               4.59\n",
       "4   34    0           1               3.28"
      ]
     },
     "execution_count": 17,
     "metadata": {},
     "output_type": "execute_result"
    }
   ],
   "source": [
    "df_lr2 = df[[\"age\", \"sex\", \"generation\", \"suicides/100k pop\"]].copy()\n",
    "\n",
    "df_lr2[\"sex\"] = df_lr2[\"sex\"].str.replace(\"female\", \"1\")\n",
    "df_lr2[\"sex\"] = df_lr2[\"sex\"].str.replace(\"male\", \"0\")\n",
    "df_lr2[\"generation\"] = df_lr2[\"generation\"].str.replace(\"Boomers\", \"1\")\n",
    "df_lr2[\"generation\"] = df_lr2[\"generation\"].str.replace(\n",
    "    \"G.I. Generation\", \"2\", regex=False\n",
    ")\n",
    "df_lr2[\"generation\"] = df_lr2[\"generation\"].str.replace(\"Generation X\", \"3\")\n",
    "df_lr2[\"generation\"] = df_lr2[\"generation\"].str.replace(\"Generation Z\", \"4\")\n",
    "df_lr2[\"generation\"] = df_lr2[\"generation\"].str.replace(\"Millenials\", \"5\")\n",
    "df_lr2[\"generation\"] = df_lr2[\"generation\"].str.replace(\"Silent\", \"6\")\n",
    "df_lr2[\"age\"] = pd.to_numeric(df_lr2[\"age\"], errors=\"coerce\")\n",
    "df_lr2[\"generation\"] = pd.to_numeric(df_lr2[\"generation\"], errors=\"coerce\")\n",
    "df_lr2[\"sex\"] = pd.to_numeric(df_lr2[\"sex\"], errors=\"coerce\")\n",
    "print(f\"#rows={len(df_lr2)} #columns={len(df_lr2.columns)}\")\n",
    "df_lr2.head()"
   ]
  },
  {
   "cell_type": "code",
   "execution_count": 18,
   "id": "711ac484",
   "metadata": {},
   "outputs": [
    {
     "name": "stdout",
     "output_type": "stream",
     "text": [
      "age                    int64\n",
      "sex                    int64\n",
      "generation             int64\n",
      "suicides/100k pop    float64\n",
      "dtype: object\n"
     ]
    }
   ],
   "source": [
    "print(df_lr2.dtypes)"
   ]
  },
  {
   "cell_type": "code",
   "execution_count": 19,
   "id": "3173ac28",
   "metadata": {},
   "outputs": [
    {
     "name": "stdout",
     "output_type": "stream",
     "text": [
      "[[24  0  3]\n",
      " [54  0  6]\n",
      " [24  1  3]\n",
      " ...\n",
      " [14  0  4]\n",
      " [14  1  4]\n",
      " [74  1  1]]\n"
     ]
    }
   ],
   "source": [
    "X2 = df_lr2.loc[:, df_lr2.columns != \"suicides/100k pop\"].values\n",
    "y2 = df_lr2.loc[:, df_lr2.columns == \"suicides/100k pop\"].values.ravel()\n",
    "\n",
    "print(X2)"
   ]
  },
  {
   "cell_type": "code",
   "execution_count": 20,
   "id": "88e0ab20",
   "metadata": {},
   "outputs": [
    {
     "name": "stdout",
     "output_type": "stream",
     "text": [
      "10.339322925911894\n"
     ]
    }
   ],
   "source": [
    "reg2 = LinearRegression().fit(X2, y2)\n",
    "\n",
    "y_pred2 = reg2.predict(X2)\n",
    "\n",
    "mae_val = mae(y2, y_pred2)\n",
    "print(mae_val)"
   ]
  },
  {
   "cell_type": "code",
   "execution_count": 21,
   "id": "0fa85bab",
   "metadata": {},
   "outputs": [
    {
     "name": "stdout",
     "output_type": "stream",
     "text": [
      "13.400359795833294\n"
     ]
    }
   ],
   "source": [
    "X_test = np.array([[24, 0, 3]])\n",
    "\n",
    "y_pred_new = reg2.predict(X_test)\n",
    "\n",
    "mae_val = mae(y2, y_pred_new)\n",
    "print(mae_val)"
   ]
  },
  {
   "cell_type": "code",
   "execution_count": 22,
   "id": "467379da",
   "metadata": {},
   "outputs": [
    {
     "data": {
      "text/plain": [
       "array([14.83749794])"
      ]
     },
     "execution_count": 22,
     "metadata": {},
     "output_type": "execute_result"
    }
   ],
   "source": [
    "y_pred_new"
   ]
  },
  {
   "cell_type": "code",
   "execution_count": 23,
   "id": "8f4d8c6e",
   "metadata": {},
   "outputs": [
    {
     "data": {
      "text/plain": [
       "array([6.71, 5.19, 4.83, ..., 2.17, 1.67, 1.46])"
      ]
     },
     "execution_count": 23,
     "metadata": {},
     "output_type": "execute_result"
    }
   ],
   "source": [
    "y2"
   ]
  },
  {
   "cell_type": "markdown",
   "id": "342f8e5e",
   "metadata": {},
   "source": [
    "There is a slight difference in the performance of the two models. The one-hot encoded model appeared to have a smaller error and a lower prediction. "
   ]
  },
  {
   "cell_type": "code",
   "execution_count": 24,
   "id": "1e1ed04c",
   "metadata": {},
   "outputs": [
    {
     "name": "stdout",
     "output_type": "stream",
     "text": [
      "prediction1: [7.78125]\n",
      "MAE Value: 11.277740833932425\n",
      "prediction2: [15.66798147]\n",
      "MAE Value: 13.781314978648458\n"
     ]
    }
   ],
   "source": [
    "X_test_3 = np.array([[0, 1, 0, 0, 0, 0, 0, 1, 0, 0, 0, 0, 1, 0]])\n",
    "X_test_4 = np.array([[34, 0, 5]])\n",
    "\n",
    "y_pred_3 = reg.predict(X_test_3)\n",
    "y_pred_4 = reg2.predict(X_test_4)\n",
    "\n",
    "mae_val = mae(y, y_pred_3)\n",
    "print(f\"prediction1: {y_pred_3}\")\n",
    "print(f\"MAE Value: {mae_val}\")\n",
    "mae_val = mae(y, y_pred_4)\n",
    "print(f\"prediction2: {y_pred_4}\")\n",
    "print(f\"MAE Value: {mae_val}\")"
   ]
  },
  {
   "cell_type": "markdown",
   "id": "84e56691",
   "metadata": {},
   "source": [
    "One advantage of regression is that the input data features don't necessarily have to be a cluster to be useful. It's possible to find meaningful trends in data that's more spread out. "
   ]
  },
  {
   "cell_type": "markdown",
   "id": "437b043b",
   "metadata": {},
   "source": [
    "One advantage of numerical encoding is that it is easier to work with since you don't need to keep track of which column represents which very specific feature. For example, with numerical values you know which column age is and can change the eaiser than one-hot encoding age ranges and then looking for which column represents the appropriate range."
   ]
  },
  {
   "cell_type": "markdown",
   "id": "c312d860",
   "metadata": {},
   "source": [
    "I would suggest the use of a classifier since it's better at providing a real value output and it will be easier to determine the most important independent features that contribute the most to a higher suicide rate. With this information, the customer will have more valuable information to combat suicide rates."
   ]
  },
  {
   "cell_type": "code",
   "execution_count": null,
   "id": "83d81a37",
   "metadata": {},
   "outputs": [],
   "source": []
  }
 ],
 "metadata": {
  "kernelspec": {
   "display_name": "Python 3 (ipykernel)",
   "language": "python",
   "name": "python3"
  },
  "language_info": {
   "codemirror_mode": {
    "name": "ipython",
    "version": 3
   },
   "file_extension": ".py",
   "mimetype": "text/x-python",
   "name": "python",
   "nbconvert_exporter": "python",
   "pygments_lexer": "ipython3",
   "version": "3.10.12"
  }
 },
 "nbformat": 4,
 "nbformat_minor": 5
}
